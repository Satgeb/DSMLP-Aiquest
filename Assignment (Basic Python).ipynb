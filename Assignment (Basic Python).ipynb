{
 "cells": [
  {
   "cell_type": "markdown",
   "id": "9818ffc8",
   "metadata": {},
   "source": [
    "# Python Practice Problems"
   ]
  },
  {
   "cell_type": "markdown",
   "id": "92c96f2f",
   "metadata": {},
   "source": [
    "### 1. Find the Largest of Two Numbers\n",
    "**Task:** Given two numbers, find the larger one.  \n",
    "**Demo Input:**  5 and 6 <br>\n",
    "**Output:** 6\n"
   ]
  },
  {
   "cell_type": "code",
   "execution_count": 6,
   "id": "c57970b7-2c5a-46b9-84e1-bf76c31f61b2",
   "metadata": {},
   "outputs": [
    {
     "name": "stdin",
     "output_type": "stream",
     "text": [
      "Enter the Num_1= 6\n",
      "Enter the Num_2= 5\n"
     ]
    },
    {
     "name": "stdout",
     "output_type": "stream",
     "text": [
      "6\n"
     ]
    }
   ],
   "source": [
    "Num_1= int(input('Enter the Num_1='))\n",
    "Num_2= int(input('Enter the Num_2='))\n",
    "if Num_1!= Num_2:\n",
    "    if Num_1>Num_2:\n",
    "        print(Num_1)\n",
    "    elif Num_2>Num_1:\n",
    "        print(Num_2)"
   ]
  },
  {
   "cell_type": "markdown",
   "id": "c8c1c683",
   "metadata": {},
   "source": [
    "### 2. Print Numbers from 1 to N\n",
    "**Task**: Given a number `n`, print all numbers from 1 to `n`. <br> \n",
    "**Demo Input**: `5`  <br>\n",
    "**Demo Output**:  1 2 3 4 5\n"
   ]
  },
  {
   "cell_type": "code",
   "execution_count": 15,
   "id": "4f9f4529",
   "metadata": {},
   "outputs": [
    {
     "name": "stdin",
     "output_type": "stream",
     "text": [
      "Enter the last number= 7\n"
     ]
    },
    {
     "name": "stdout",
     "output_type": "stream",
     "text": [
      "1\n",
      "2\n",
      "3\n",
      "4\n",
      "5\n",
      "6\n",
      "7\n"
     ]
    }
   ],
   "source": [
    "last_num= int(input('Enter the last number='))\n",
    "for i in range(last_num):\n",
    "    print(i+1)    "
   ]
  },
  {
   "cell_type": "markdown",
   "id": "899df468",
   "metadata": {},
   "source": [
    "### 3. Check if a Number is Positive or Negative\n",
    "**Task**: Determine if the input number is positive, negative, or zero.  \n",
    "**Demo Input**: `-3`  \n",
    "**Demo Output**: `The number is Negative`"
   ]
  },
  {
   "cell_type": "code",
   "execution_count": 19,
   "id": "56ae285e",
   "metadata": {},
   "outputs": [
    {
     "name": "stdin",
     "output_type": "stream",
     "text": [
      "Enter the number= 0\n"
     ]
    },
    {
     "name": "stdout",
     "output_type": "stream",
     "text": [
      "The number is Zero\n"
     ]
    }
   ],
   "source": [
    "Number=int(input('Enter the number='))\n",
    "if Number>0:\n",
    "    print('The number is Positive')\n",
    "elif Number<0:\n",
    "    print('The number is Negative')\n",
    "else:\n",
    "    print('The number is Zero')"
   ]
  },
  {
   "cell_type": "markdown",
   "id": "9d865d12",
   "metadata": {},
   "source": [
    "### 4. Calculate the Sum of Digits\n",
    "**Task**: Given a number, find the sum of its digits.  \n",
    "**Demo Input**: `123`  \n",
    "**Demo Output**: `6`  \n",
    "(Explanation: `1+2+3=6`)"
   ]
  },
  {
   "cell_type": "code",
   "execution_count": 46,
   "id": "c28b2c6c",
   "metadata": {},
   "outputs": [
    {
     "name": "stdin",
     "output_type": "stream",
     "text": [
      "Enter a number for digit sum= 123\n"
     ]
    },
    {
     "name": "stdout",
     "output_type": "stream",
     "text": [
      "6\n"
     ]
    }
   ],
   "source": [
    "Number= input('Enter a number for digit sum=')\n",
    "total=0\n",
    "for i in Number:\n",
    "    total=total+int(i)\n",
    "print(total)"
   ]
  },
  {
   "cell_type": "markdown",
   "id": "a970046f",
   "metadata": {},
   "source": [
    "### 5. Find Factorial of a Number\n",
    "**Task**: Calculate the factorial of a given number.  \n",
    "**Demo Input**: `4`  \n",
    "**Demo Output**: `24`  \n",
    "(Explanation: `4! = 4*3*2*1 = 24`)"
   ]
  },
  {
   "cell_type": "code",
   "execution_count": 3,
   "id": "fd5966d2",
   "metadata": {},
   "outputs": [
    {
     "name": "stdin",
     "output_type": "stream",
     "text": [
      "Enter the the value=  4\n"
     ]
    },
    {
     "name": "stdout",
     "output_type": "stream",
     "text": [
      "24\n"
     ]
    }
   ],
   "source": [
    "Number=int(input('Enter the the value= '))\n",
    "total=1\n",
    "for i in range(2,Number+1):\n",
    "    total= total * i\n",
    "print(total)"
   ]
  },
  {
   "cell_type": "markdown",
   "id": "c8798099",
   "metadata": {},
   "source": [
    "### 6. Count Occurrences of a Digit\n",
    "**Task**: Count how many times a specific digit appears max in a number.  \n",
    "**Demo Input**:  1233321 <br>\n",
    "**Demo Output**: `3`  <br>\n",
    "(Explanation: `3` appears 3 times in `1233321`)"
   ]
  },
  {
   "cell_type": "code",
   "execution_count": 9,
   "id": "5772f0e6",
   "metadata": {},
   "outputs": [
    {
     "name": "stdin",
     "output_type": "stream",
     "text": [
      "Enter the number=  1233321\n",
      "Enter the digit for counting=  3\n"
     ]
    },
    {
     "name": "stdout",
     "output_type": "stream",
     "text": [
      "3\n"
     ]
    }
   ],
   "source": [
    "Number=input(\"Enter the number= \")\n",
    "digit_to_count= input(\"Enter the digit for counting= \")\n",
    "count=0\n",
    "for i in Number:\n",
    "    if i == digit_to_count:\n",
    "        count=count+1\n",
    "print(count)"
   ]
  },
  {
   "cell_type": "markdown",
   "id": "b7f985bc",
   "metadata": {},
   "source": [
    "### 7. Find the GCD of Two Numbers\n",
    "**Task**: Find the greatest common divisor (GCD) of two numbers.  \n",
    "**Demo Input**: 8 and 12 <br>\n",
    "**Demo Output**: `4`"
   ]
  },
  {
   "cell_type": "code",
   "execution_count": 13,
   "id": "a467887d",
   "metadata": {},
   "outputs": [
    {
     "name": "stdin",
     "output_type": "stream",
     "text": [
      "Enter the 1st Number=  12\n",
      "Enter the 2nd Number=  8\n"
     ]
    },
    {
     "name": "stdout",
     "output_type": "stream",
     "text": [
      "the GCD of 12 and 8 is 4\n"
     ]
    }
   ],
   "source": [
    "num_1=int(input(\"Enter the 1st Number= \"))\n",
    "num_2=int(input(\"Enter the 2nd Number= \"))\n",
    "if num_1 > num_2:\n",
    "    smallest=num_2\n",
    "else:\n",
    "    smallest=num_1\n",
    "\n",
    "GCD=1  #As we know that 1 is common GCD for any two numbers.initially we can consider that the GCD is 1\n",
    "\n",
    "for i in range(1,smallest+1):\n",
    "    if (num_1 % i==0) and (num_2 % i==0):\n",
    "        GCD=i\n",
    "print(f'the GCD of {num_1} and {num_2} is {GCD}')\n",
    "        "
   ]
  },
  {
   "cell_type": "markdown",
   "id": "14c6a2fd",
   "metadata": {},
   "source": [
    "### 8. Reverse a String\n",
    "**Task**: Reverse the given string.  \n",
    "**Demo Input**: `\"aiquest\"`  \n",
    "**Demo Output**: `\"tseuqia\"`"
   ]
  },
  {
   "cell_type": "code",
   "execution_count": 8,
   "id": "bd22e158",
   "metadata": {},
   "outputs": [
    {
     "name": "stdin",
     "output_type": "stream",
     "text": [
      "Enter the word or string to reverse=  aiquest\n"
     ]
    },
    {
     "name": "stdout",
     "output_type": "stream",
     "text": [
      "the reverse string of the word \"aiquest\" is \"tseuqia\"\n"
     ]
    }
   ],
   "source": [
    "string=input(\"Enter the word or string to reverse= \")\n",
    "reverse_string=string[::-1]\n",
    "print(f'the reverse string of the word \"{string}\" is \"{reverse_string}\"')"
   ]
  },
  {
   "cell_type": "markdown",
   "id": "88317dfd",
   "metadata": {},
   "source": [
    "### 9. Check Armstrong Number\n",
    "**Task**: Check if a number is an Armstrong number (the sum of its digits raised to the power of the number of digits equals the number).  \n",
    "**Demo Input**: `153`  \n",
    "**Demo Output**: `153 is an Armstrong Number`  \n",
    "(Explanation: \\(1^3 + 5^3 + 3^3 = 153\\))"
   ]
  },
  {
   "cell_type": "code",
   "execution_count": 20,
   "id": "2602ff94",
   "metadata": {},
   "outputs": [
    {
     "name": "stdin",
     "output_type": "stream",
     "text": [
      "Enter the number for verify=  153\n"
     ]
    },
    {
     "name": "stdout",
     "output_type": "stream",
     "text": [
      "sum of number 153\n",
      "the number \"153\" is a Armstrong Number\n"
     ]
    }
   ],
   "source": [
    "num_1= int(input(\"Enter the number for verify= \"))\n",
    "num_2= str(num_1)\n",
    "length_of_number=len(num_2)\n",
    "sum_of_number=0\n",
    "\n",
    "for i in num_2:\n",
    "    sum_of_number= sum_of_number + int(i)**length_of_number\n",
    "print(f'sum of number {sum_of_number}')\n",
    "\n",
    "if sum_of_number==num_1:\n",
    "    print(f'the number \"{num_1}\" is a Armstrong Number')\n",
    "else:\n",
    "    print(f'the number \"{num_1}\" is not a Armstrong Number')"
   ]
  },
  {
   "cell_type": "markdown",
   "id": "0905a3cc",
   "metadata": {},
   "source": [
    "### 10. Generate a Pattern\n",
    "**Task**: Print a pyramid pattern with `n` rows.  \n",
    "**Demo input:** 4 <br>\n",
    "**Output:** You will see the pyramid pattern with 4 rows"
   ]
  },
  {
   "cell_type": "code",
   "execution_count": 26,
   "id": "83d8b483",
   "metadata": {},
   "outputs": [
    {
     "name": "stdin",
     "output_type": "stream",
     "text": [
      "Enter the row number=  4\n"
     ]
    },
    {
     "name": "stdout",
     "output_type": "stream",
     "text": [
      "n\n",
      "nn\n",
      "nnn\n",
      "nnnn\n"
     ]
    }
   ],
   "source": [
    "row_num_1=int(input(\"Enter the row number= \"))\n",
    "for i in range(1,row_num_1+1):\n",
    "    print(\"n\"*i)"
   ]
  },
  {
   "cell_type": "markdown",
   "id": "ec723917",
   "metadata": {},
   "source": [
    "# Good Luck!"
   ]
  }
 ],
 "metadata": {
  "kernelspec": {
   "display_name": "Python 3 (ipykernel)",
   "language": "python",
   "name": "python3"
  },
  "language_info": {
   "codemirror_mode": {
    "name": "ipython",
    "version": 3
   },
   "file_extension": ".py",
   "mimetype": "text/x-python",
   "name": "python",
   "nbconvert_exporter": "python",
   "pygments_lexer": "ipython3",
   "version": "3.12.0"
  }
 },
 "nbformat": 4,
 "nbformat_minor": 5
}
