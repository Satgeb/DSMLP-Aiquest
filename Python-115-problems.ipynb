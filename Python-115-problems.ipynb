{
 "cells": [
  {
   "cell_type": "code",
   "execution_count": 8,
   "id": "0c716f60-7192-40b7-8ad7-833265c32632",
   "metadata": {},
   "outputs": [
    {
     "name": "stdout",
     "output_type": "stream",
     "text": [
      "Enter the value of var_1=  saimon\n",
      "Enter the value of var_2=  ahmad\n"
     ]
    },
    {
     "name": "stdout",
     "output_type": "stream",
     "text": [
      "value of var_1=ahmad and var_2=saimon\n"
     ]
    }
   ],
   "source": [
    "#1. Variable Swap: Write a Python program to swap the values of two variables without using a temporary variable\n",
    "var_1 =input('Enter the value of var_1= ')\n",
    "var_2 =input('Enter the value of var_2= ')\n",
    "if var_1!=var_2:\n",
    "    print(f'value of var_1={var_2} and var_2={var_1}')\n",
    "else:\n",
    "    print('both values are same try again')"
   ]
  },
  {
   "cell_type": "code",
   "execution_count": 15,
   "id": "2bf73ff5-a427-450b-b707-1303c65a8bb4",
   "metadata": {},
   "outputs": [
    {
     "name": "stdout",
     "output_type": "stream",
     "text": [
      "Enter the value of var_1=  8\n"
     ]
    },
    {
     "name": "stdout",
     "output_type": "stream",
     "text": [
      "the value 8 is even\n"
     ]
    }
   ],
   "source": [
    "#2. Even or Odd: Write a Python program that takes an integer as input and prints whether it is even or odd.\n",
    "var_1 =int(input('Enter the value of var_1= '))\n",
    "if var_1!=0 and var_1%2==0:\n",
    "    print(f'the value {var_1} is even')\n",
    "else:\n",
    "    print (f'the value {var_1} is odd')"
   ]
  },
  {
   "cell_type": "code",
   "execution_count": 19,
   "id": "a3ff1a1b-e1c9-4e73-a51e-614f08ba4a25",
   "metadata": {},
   "outputs": [
    {
     "name": "stdout",
     "output_type": "stream",
     "text": [
      "Enter the value for reverse the value=  Bangladesh\n"
     ]
    },
    {
     "name": "stdout",
     "output_type": "stream",
     "text": [
      "the reversed string is hsedalgnaB\n"
     ]
    }
   ],
   "source": [
    "#3. String Reverse: Write a Python function to reverse a given string and return the reversed string.\n",
    "var_1=input('Enter the value for reverse the value= ')\n",
    "reverse_var_1= var_1[::-1]\n",
    "print(f'the reversed string is {reverse_var_1}')"
   ]
  },
  {
   "cell_type": "code",
   "execution_count": 39,
   "id": "4e7a5dca-be0b-43c7-b7de-c6668f1e65cf",
   "metadata": {},
   "outputs": [
    {
     "name": "stdout",
     "output_type": "stream",
     "text": [
      "[2, 3, 4, 5, 6, 7]\n",
      "<class 'str'>\n"
     ]
    }
   ],
   "source": [
    "#4. Type Conversion: Given a list of integers, write a Python program to convert each element of the list to a string.\n",
    "var_1= [2,3,4,5,6,7]\n",
    "var_2= str(var_1)\n",
    "print(var_2)\n",
    "print(type(var_2))"
   ]
  },
  {
   "cell_type": "code",
   "execution_count": 43,
   "id": "54314353-aa25-45d3-959d-8584a4de24d7",
   "metadata": {},
   "outputs": [
    {
     "name": "stdout",
     "output_type": "stream",
     "text": [
      "Enter the temperature value in Celsius=  25.5\n"
     ]
    },
    {
     "name": "stdout",
     "output_type": "stream",
     "text": [
      "the Fahrenheit value of given temperature is \"77.9\"\n"
     ]
    }
   ],
   "source": [
    "#5. Temperature Converter: Write a Python program that converts a temperature in Celsius to Fahrenheit. Take the Celsius temperature as input from the user.\n",
    "var_1= float(input('Enter the temperature value in Celsius= '))\n",
    "var_2= var_1 * 1.8 + 32\n",
    "print(f'the Fahrenheit value of given temperature is \"{var_2}\"')"
   ]
  },
  {
   "cell_type": "code",
   "execution_count": 48,
   "id": "8e3de676-2149-43c7-8795-8c0e68c212e3",
   "metadata": {},
   "outputs": [
    {
     "name": "stdout",
     "output_type": "stream",
     "text": [
      "Enter the value=  10\n"
     ]
    },
    {
     "name": "stdout",
     "output_type": "stream",
     "text": [
      "<class 'str'>\n"
     ]
    }
   ],
   "source": [
    "#6. Data Type Checker: Write a Python function that takes a variable as input and returns the data type of the variable as a string (e.g., “int”, “float”, “str”, “list”, etc.).\n",
    "var_1=input('Enter the value= ')\n",
    "print (type(var_1))"
   ]
  },
  {
   "cell_type": "code",
   "execution_count": 84,
   "id": "34ee51a3-20d4-4ae8-8cf7-3b1d89818166",
   "metadata": {},
   "outputs": [
    {
     "name": "stdout",
     "output_type": "stream",
     "text": [
      "Enter the value=  Nolemonnomelon\n"
     ]
    },
    {
     "name": "stdout",
     "output_type": "stream",
     "text": [
      "the string \"NOLEMONNOMELON\" is a palindrome\n"
     ]
    }
   ],
   "source": [
    "#7. String Palindrome: Write a Python function to check if a given string is a palindrome or not.\n",
    "var_1=input('Enter the value= ')\n",
    "var_1= var_1.upper()\n",
    "rev_var_1=var_1[::-1]\n",
    "if rev_var_1 == var_1:\n",
    "    print(f'the string \"{var_1}\" is a palindrome')\n",
    "else:\n",
    "    print (f'the string \"{var_1}\" is not a palindrome')"
   ]
  },
  {
   "cell_type": "code",
   "execution_count": 87,
   "id": "11397fbc-8b69-470a-bfaf-9186a83ef845",
   "metadata": {},
   "outputs": [
    {
     "name": "stdout",
     "output_type": "stream",
     "text": [
      "Enter the value for reverse the value=  Bangladesh\n"
     ]
    },
    {
     "name": "stdout",
     "output_type": "stream",
     "text": [
      "the reversed string is hsedalgnaB\n"
     ]
    }
   ],
   "source": [
    "#8. String Reversal with Slicing: Write a Python function to reverse a given string using slicing.\n",
    "var_1=input('Enter the value for reverse the value= ')\n",
    "reverse_var_1= var_1[::-1]\n",
    "print(f'the reversed string is {reverse_var_1}')"
   ]
  },
  {
   "cell_type": "code",
   "execution_count": 89,
   "id": "ea1a9c5d-80de-48df-9114-c21997f33fcb",
   "metadata": {},
   "outputs": [
    {
     "name": "stdout",
     "output_type": "stream",
     "text": [
      "Enter the 1st string=  saimon\n",
      "Enter the 2nd string=  ahmad\n"
     ]
    },
    {
     "name": "stdout",
     "output_type": "stream",
     "text": [
      "saimonahmad\n"
     ]
    }
   ],
   "source": [
    "#9. String Concatenation: Write a Python program that takes two strings as input and concatenates them into a single string without using the `+` operator.\n",
    "var_1=input('Enter the 1st string= ')\n",
    "var_2=input('Enter the 2nd string= ')\n",
    "print(f'{var_1}{var_2}')"
   ]
  },
  {
   "cell_type": "code",
   "execution_count": 100,
   "id": "5cb76e39-eebc-4670-ab09-79d89810c798",
   "metadata": {},
   "outputs": [
    {
     "name": "stdout",
     "output_type": "stream",
     "text": [
      "125\n",
      "114.5\n",
      "114.5 is the answer\n",
      "<class 'str'>\n"
     ]
    }
   ],
   "source": [
    "#10. Typecasting Challenge: Given three variables: `a = ‘100’`, `b = 25`, and `c = ‘10.5’`, write a Python program to perform the\n",
    "#following operations and print the results: – Convert `a` to an integer and add it to `b`. – Convert `c` to a float and subtract it from \n",
    "#the result of the first operation. – Convert the final result to a string and concatenate it with the string ” is the answer.”\n",
    "a='100'\n",
    "b=25\n",
    "c='10.5'\n",
    "#– Convert `a` to an integer and add it to `b`.\n",
    "var_1=int(a)\n",
    "sum_of_ab = b + var_1\n",
    "print(sum_of_ab)\n",
    "# – Convert `c` to a float and subtract it from the result of the first operation.\n",
    "var_2=float(c)\n",
    "subtract_from_first_operation= sum_of_ab-var_2\n",
    "print(subtract_from_first_operation)\n",
    "#– Convert the final result to a string and concatenate it with the string ” is the answer.”\n",
    "final_result=str(subtract_from_first_operation)\n",
    "print(f'{final_result} is the answer')\n",
    "print(type(final_result))"
   ]
  },
  {
   "cell_type": "markdown",
   "id": "76c0eb53-42dd-4398-bdd8-e27bc3c8e56f",
   "metadata": {},
   "source": [
    "# Conditional tasks if/elif/else:"
   ]
  },
  {
   "cell_type": "code",
   "execution_count": 108,
   "id": "76c9e55f-3ca3-40ec-bf63-98a9d39e047d",
   "metadata": {},
   "outputs": [
    {
     "name": "stdout",
     "output_type": "stream",
     "text": [
      "Enter the number=  -2\n"
     ]
    },
    {
     "name": "stdout",
     "output_type": "stream",
     "text": [
      "the value -2.0 is a negative number\n"
     ]
    }
   ],
   "source": [
    "#11. Positive, Negative, or Zero: Write a Python program \n",
    "#that takes a number as input and prints whether it is positive, negative, or zero.\n",
    "var_1=float(input('Enter the number= '))\n",
    "if var_1>0:\n",
    "    print(f'the value {var_1} is a positive number')\n",
    "elif var_1<0:\n",
    "    print(f'the value {var_1} is a negative number')\n",
    "else:\n",
    "    print(f'the value {var_1} is zero')"
   ]
  },
  {
   "cell_type": "code",
   "execution_count": 153,
   "id": "121b85fe-4ff4-4f07-9203-85f0440b5ed9",
   "metadata": {},
   "outputs": [
    {
     "name": "stdout",
     "output_type": "stream",
     "text": [
      "Enter the 1st number=  7\n",
      "Enter the 2nd number=  6\n",
      "Enter the 3rd number=  4\n"
     ]
    },
    {
     "name": "stdout",
     "output_type": "stream",
     "text": [
      "the largest number is 7.0\n"
     ]
    }
   ],
   "source": [
    "#12. Largest of Three Numbers: Write a Python program that takes three numbers as input and prints the largest among them.\n",
    "var_1=float(input('Enter the 1st number= '))\n",
    "var_2=float(input('Enter the 2nd number= '))\n",
    "var_3=float(input('Enter the 3rd number= '))\n",
    "if var_1>=var_2 and var_1>=var_3:\n",
    "    print(f'the largest number is {var_1}')\n",
    "elif var_2>=var_1 and var_2>=var_3:\n",
    "    print(f'the largest number is {var_2}')\n",
    "else:\n",
    "    print(f'the largest number is {var_3}')"
   ]
  },
  {
   "cell_type": "code",
   "execution_count": 204,
   "id": "297f3d23-c957-4ac3-b972-5938d6d4281a",
   "metadata": {},
   "outputs": [
    {
     "name": "stdout",
     "output_type": "stream",
     "text": [
      "Enter the year =  -1\n"
     ]
    },
    {
     "name": "stdout",
     "output_type": "stream",
     "text": [
      "the mentioned year -1 is invalid\n"
     ]
    }
   ],
   "source": [
    "#13. Leap Year Checker: Write a Python program that takes a year as input and determines if it is a leap year or not\n",
    "#condition for leap years:\n",
    "#Divisible by 4: Generally, any year that can be divided evenly by 4 is a leap year. \n",
    "#Divisible by 100: However, if a year is divisible by 100, it's not a leap year, unless it's also divisible by 400. \n",
    "#Divisible by 400: If a year is divisible by both 100 and 400, it is a leap year. \n",
    "\n",
    "var_1=int(input('Enter the year = '))\n",
    "\n",
    "if var_1>= 0 and (var_1 % 4 == 0 and var_1 % 100 != 0) or (var_1%100 == 0 and var_1%400 == 0):\n",
    "    print(f'the mentioned year {var_1} is a leap year')\n",
    "elif var_1<0:\n",
    "    print(f'the mentioned year {var_1} is invalid')\n",
    "else:\n",
    "    print(f'the mentioned year {var_1} is not a leap year')\n"
   ]
  },
  {
   "cell_type": "code",
   "execution_count": 211,
   "id": "03b0bdc3-ea38-437b-a695-0cf00fed6563",
   "metadata": {},
   "outputs": [
    {
     "name": "stdout",
     "output_type": "stream",
     "text": [
      "Enter the percantage of marks=  50\n"
     ]
    },
    {
     "name": "stdout",
     "output_type": "stream",
     "text": [
      "the percentage is 50.0% and grade is \"Fail\"\n"
     ]
    }
   ],
   "source": [
    "#14. Grades Classification: Write a Python program that takes a student’s percentage as input and prints their corresponding grade according to the following criteria: \n",
    "#– 90% or above: A+ \n",
    "#– 80-89%: A \n",
    "#– 70-79%: B \n",
    "#– 60-69%: C \n",
    "#– Below 60%: Fail\n",
    "var_1=float(input('Enter the percantage of marks= '))\n",
    "\n",
    "if var_1>=90:\n",
    "    print(f'the percentage is {var_1}% and grade is \"A+\"')\n",
    "elif var_1>=80 and var_1<=89:\n",
    "    print(f'the percentage is {var_1}% and grade is \"A\"')\n",
    "elif var_1>=70 and var_1<=79:\n",
    "    print(f'the percentage is {var_1}% and grade is \"B\"')\n",
    "elif var_1>=60 and var_1<=69:\n",
    "    print(f'the percentage is {var_1}% and grade is \"C\"')\n",
    "else:\n",
    "    print(f'the percentage is {var_1}% and grade is \"Fail\"')       "
   ]
  },
  {
   "cell_type": "code",
   "execution_count": 252,
   "id": "6774a602-c9c6-436b-baa9-4dd8efdfd3d7",
   "metadata": {},
   "outputs": [
    {
     "name": "stdout",
     "output_type": "stream",
     "text": [
      "Enter the letter for verification=  d\n"
     ]
    },
    {
     "name": "stdout",
     "output_type": "stream",
     "text": [
      "the letter \"d\" is a consonent\n"
     ]
    }
   ],
   "source": [
    "#15. Vowel or Consonant: Write a Python program that takes a single character as input and determines whether it is a vowel or a consonant.\n",
    "var_1=input('Enter the letter for verification= ')\n",
    "var_1=var_1.lower()\n",
    "if len(var_1)==1 and var_1.isalpha():\n",
    "    if var_1=='a' or var_1=='e' or var_1=='i' or var_1=='o' or var_1=='u':\n",
    "        print(f'the letter \"{var_1}\" is a vowel')\n",
    "    else:\n",
    "        print(f'the letter \"{var_1}\" is a consonent')\n",
    "else:\n",
    "    print(f'the input \"{var_1}\" is invalid, insert a single character')"
   ]
  },
  {
   "cell_type": "code",
   "execution_count": 277,
   "id": "426f42ff-9d4f-46e4-b381-bbaeea6c3b87",
   "metadata": {},
   "outputs": [
    {
     "name": "stdout",
     "output_type": "stream",
     "text": [
      "Enter the time value in 24-hour format=  17\n"
     ]
    },
    {
     "name": "stdout",
     "output_type": "stream",
     "text": [
      "\"Good Afternoon\"\n"
     ]
    }
   ],
   "source": [
    "# 16. Time Classification: Write a Python program that takes the time in hours (24-hour format) as input and \n",
    "#prints “Good Morning”, “Good Afternoon”, “Good Evening”, or “Good Night” based on the time.\n",
    "\n",
    "var_1=int(input('Enter the time value in 24-hour format= '))\n",
    "\n",
    "if var_1>=0 and var_1<= 6:\n",
    "    print('\"Good Night\"')\n",
    "elif var_1>6 and var_1<=12:\n",
    "    print('\"Good Morning\"')\n",
    "elif var_1>12 and var_1<=17:\n",
    "    print('\"Good Afternoon\"')\n",
    "elif var_1>17 and var_1<=23:\n",
    "    print('\"Good Evening\"')\n",
    "\n",
    "else:\n",
    "    print('invalid hour input')"
   ]
  },
  {
   "cell_type": "code",
   "execution_count": 289,
   "id": "bc86c123-88b3-4667-bb91-000cb47d5fc6",
   "metadata": {},
   "outputs": [
    {
     "name": "stdout",
     "output_type": "stream",
     "text": [
      "Enter the 1st value for side a =  6\n",
      "Enter the 2nd value for side b =  6\n",
      "Enter the 3rd value for side c =  7\n"
     ]
    },
    {
     "name": "stdout",
     "output_type": "stream",
     "text": [
      "the triangle is \"isosceles\"\n"
     ]
    }
   ],
   "source": [
    "#17. Triangle Type Checker: Write a Python program that takes three sides of a triangle as input and determines whether it forms an equilateral, isosceles, or scalene triangle.\n",
    "\n",
    "a=float(input('Enter the 1st value for side a = '))\n",
    "b=float(input('Enter the 2nd value for side b = '))\n",
    "c=float(input('Enter the 3rd value for side c = '))\n",
    "\n",
    "if a+b>c and b+c>a and a+c>b:\n",
    "    if a==b==c:\n",
    "        print(f'the triangle is \"equilateral\"')\n",
    "    elif a==b or b==c or a==c:\n",
    "        print(f'the triangle is \"isosceles\"')\n",
    "    elif a!=b and a!=c and b!=c:\n",
    "        print(f'the triangle is \"scalene\"')\n",
    "else:\n",
    "    print(f'Insufficient to form a triangle')"
   ]
  },
  {
   "cell_type": "code",
   "execution_count": 11,
   "id": "5957957b-84fa-428f-ad55-8fd231392b85",
   "metadata": {},
   "outputs": [
    {
     "name": "stdout",
     "output_type": "stream",
     "text": [
      "Enter the value of coefficient a =  0\n",
      "Enter the value of coefficient b =  1\n",
      "Enter the value of coefficient c =  2\n"
     ]
    },
    {
     "name": "stdout",
     "output_type": "stream",
     "text": [
      "This is not a quadratic equation\n"
     ]
    }
   ],
   "source": [
    "#18. Quadratic Equation Solver: Write a Python program that takes the coefficients (a, b, c) of a quadratic equation as input and calculates and prints the real roots (if they exist) or a message indicating the complex roots.\n",
    "var_1=int(input('Enter the value of coefficient a = '))\n",
    "var_2=int(input('Enter the value of coefficient b = '))\n",
    "var_3=int(input('Enter the value of coefficient c = '))\n",
    "deter=(var_2)**2- (4*var_1*var_3)\n",
    "import math\n",
    "if var_1==0:\n",
    "    print(f'This is not a quadratic equation')\n",
    "else:\n",
    "    if deter>0: #there is two root\n",
    "        root_1=((-var_2)+math.sqrt(deter))/2*(var_1)\n",
    "        root_2=((-var_2)-math.sqrt(deter))/2*(var_1)\n",
    "        print(f'the value of two root is x={root_1} and x={root_2}')\n",
    "    elif deter==0:\n",
    "        root=(-var_2)/2*(var_1)\n",
    "        print(f'the value of only root is x={root}')\n",
    "    else:\n",
    "        print(f'the value of root is complex')"
   ]
  },
  {
   "cell_type": "code",
   "execution_count": 20,
   "id": "6aec8998-ede5-4a4d-97e2-ba335f03e4cb",
   "metadata": {},
   "outputs": [
    {
     "name": "stdout",
     "output_type": "stream",
     "text": [
      "Enter the number value=  51\n"
     ]
    },
    {
     "name": "stdout",
     "output_type": "stream",
     "text": [
      "the number \"var_1=51\" falls in the range 51-100\n"
     ]
    }
   ],
   "source": [
    "#19. Number Ranges: Write a Python program that takes an integer \n",
    "#as input and prints whether the number falls within the ranges: 0-50, 51-100, 101-150, or above 150.\n",
    "var_1=int(input('Enter the number value= '))\n",
    "\n",
    "if var_1 in range(0,51):\n",
    "    print(f'the number \"var_1={var_1}\" falls in the range 0-50')\n",
    "elif var_1 in range(51,101):\n",
    "    print(f'the number \"var_1={var_1}\" falls in the range 51-100')\n",
    "elif var_1 in range(101,151):\n",
    "    print(f'the number \"var_1={var_1}\" falls in the range 101-150')\n",
    "else:\n",
    "    print(f'the number \"var_1={var_1}\" is above 150')"
   ]
  },
  {
   "cell_type": "markdown",
   "id": "79124cb1-8a97-40c4-9765-629c7a14d042",
   "metadata": {},
   "source": [
    "# Problem regarding for loop"
   ]
  },
  {
   "cell_type": "code",
   "execution_count": 23,
   "id": "acfdaa63-3cc5-45ee-8b21-7544e2018279",
   "metadata": {},
   "outputs": [
    {
     "name": "stdout",
     "output_type": "stream",
     "text": [
      "Enter the natural number=  10\n"
     ]
    },
    {
     "name": "stdout",
     "output_type": "stream",
     "text": [
      "the sum of first natural number 10 is 55\n"
     ]
    }
   ],
   "source": [
    "#20. Sum of N Numbers: Write a Python program using a for loop to \n",
    "#calculate the sum of the first N natural numbers, where N is taken as input from the user.\n",
    "var_1=int(input('Enter the natural number= '))\n",
    "sum_of_num=0\n",
    "for i in range(1,var_1+1):\n",
    "    sum_of_num=i+sum_of_num\n",
    "print(f'the sum of first natural number {var_1} is {sum_of_num}')"
   ]
  },
  {
   "cell_type": "code",
   "execution_count": 35,
   "id": "c674e47d-65ac-4a81-b849-d84ee67d7e51",
   "metadata": {},
   "outputs": [
    {
     "name": "stdout",
     "output_type": "stream",
     "text": [
      "Enter the number for factorial=  5\n"
     ]
    },
    {
     "name": "stdout",
     "output_type": "stream",
     "text": [
      "the factorial of number 5 is 120\n"
     ]
    }
   ],
   "source": [
    "#21. Factorial Calculator: Write a Python program using a while loop to calculate the factorial of a given number N.\n",
    "var_1=int(input('Enter the number for factorial= '))\n",
    "factorial_of_number=1\n",
    "loop=1\n",
    "while loop<=var_1:\n",
    "    factorial_of_number=(factorial_of_number)*loop\n",
    "    loop=loop+1\n",
    "print(f'the factorial of number {var_1} is {factorial_of_number}')"
   ]
  },
  {
   "cell_type": "code",
   "execution_count": 50,
   "id": "bdc7444f-500a-4c64-ac93-fcd91337e3a9",
   "metadata": {},
   "outputs": [
    {
     "name": "stdout",
     "output_type": "stream",
     "text": [
      "Enter the number for times table=  4\n"
     ]
    },
    {
     "name": "stdout",
     "output_type": "stream",
     "text": [
      "1 x 4=4\n",
      "2 x 4=8\n",
      "3 x 4=12\n",
      "4 x 4=16\n",
      "5 x 4=20\n",
      "6 x 4=24\n",
      "7 x 4=28\n",
      "8 x 4=32\n",
      "9 x 4=36\n",
      "10 x 4=40\n"
     ]
    }
   ],
   "source": [
    "#22. Table of a Number: Write a Python program using a for loop to print the multiplication table of a given number N.\n",
    "var_1=int(input('Enter the number for times table= '))\n",
    "multiplication=1\n",
    "for i in range(1,11):\n",
    "    multiplication=i*var_1\n",
    "    print(f'{i} x {var_1}={multiplication}')\n",
    "    i=i+1    "
   ]
  },
  {
   "cell_type": "code",
   "execution_count": 74,
   "id": "1c260ed3-d842-4fd4-ac80-d1a3d7ec2d79",
   "metadata": {},
   "outputs": [
    {
     "name": "stdout",
     "output_type": "stream",
     "text": [
      "Enter the number=  635627\n"
     ]
    },
    {
     "name": "stdout",
     "output_type": "stream",
     "text": [
      "the number of digits in the number \"635627\" is \"6\"\n"
     ]
    }
   ],
   "source": [
    "#23. Count Digits in a Number: Write a Python program using a while loop to count the number of digits in a given integer N.\n",
    "var_1=input('Enter the number= ')\n",
    "num_length=len(var_1)\n",
    "count=0\n",
    "i=0\n",
    "while i<num_length:\n",
    "    count=count+1\n",
    "    i=i+1\n",
    "print(f'the number of digits in the number \"{var_1}\" is \"{count}\"')"
   ]
  },
  {
   "cell_type": "code",
   "execution_count": 114,
   "id": "88bb1a64-681a-43dd-8353-c13aaa98681e",
   "metadata": {},
   "outputs": [
    {
     "name": "stdout",
     "output_type": "stream",
     "text": [
      "Enter the highest number for Fibonacci series=  8\n"
     ]
    },
    {
     "name": "stdout",
     "output_type": "stream",
     "text": [
      "0,1,1,2,3,5,8,"
     ]
    }
   ],
   "source": [
    "#24. Fibonacci Sequence: Write a Python program using a for loop to generate the Fibonacci sequence up to a given limit N.\n",
    "var_1=int(input('Enter the highest number for Fibonacci series= '))\n",
    "First_num=0\n",
    "Second_num=1\n",
    "\n",
    "for i in range(var_1):\n",
    "    if First_num > var_1:\n",
    "        break\n",
    "    print(f'{First_num},', end=\"\")\n",
    "    First_num, Second_num = Second_num, First_num + Second_num"
   ]
  },
  {
   "cell_type": "code",
   "execution_count": 125,
   "id": "65a3468c-5be9-4b79-932c-0ddc54c449ba",
   "metadata": {},
   "outputs": [
    {
     "name": "stdout",
     "output_type": "stream",
     "text": [
      "Enter the highest number =  6\n"
     ]
    },
    {
     "name": "stdout",
     "output_type": "stream",
     "text": [
      "the sum of even numbers upto 6 is \"12\"\n"
     ]
    }
   ],
   "source": [
    "#25. Sum of Even Numbers: Write a Python program using a while loop \n",
    "#to calculate the sum of all even numbers between 1 and N, where N is taken as input from the user.\n",
    "var_1=int(input('Enter the highest number = '))\n",
    "i=0\n",
    "total=0\n",
    "while i<=var_1:\n",
    "    total=total+i\n",
    "    i=i+2\n",
    "print(f'the sum of even numbers upto {var_1} is \"{total}\"')"
   ]
  },
  {
   "cell_type": "code",
   "execution_count": 160,
   "id": "35b2fee8-3c92-47b2-abab-41419d204e2e",
   "metadata": {},
   "outputs": [
    {
     "name": "stdout",
     "output_type": "stream",
     "text": [
      " \n",
      " *  \n",
      " *  *  \n",
      " *  *  *  \n",
      " *  *  *  *  \n",
      " *  *  *  *  *  \n",
      " *  *  *  *  *  *  \n"
     ]
    }
   ],
   "source": [
    "#26. Print Patterns: Write a Python program using nested for loops to print various patterns, such as a right-angled triangle, an inverted right-angled triangle, and so on.\n",
    "for i in range(1,8):\n",
    "    for j in range(1,i):\n",
    "        print(' * ',end='')\n",
    "    print(' ')"
   ]
  },
  {
   "cell_type": "code",
   "execution_count": 320,
   "id": "7267ab67-a319-4841-920d-fe1c13cd60c9",
   "metadata": {},
   "outputs": [
    {
     "name": "stdout",
     "output_type": "stream",
     "text": [
      "Enter the number to check =  8\n"
     ]
    }
   ],
   "source": [
    "#27. Prime Number Checker: Write a Python program using a while loop to check if a given number N is prime or not.\n",
    "var_1=int(input('Enter the number to check = '))\n",
    "while any_num < var_1:\n",
    "    if var_1 % any_num !=0:\n",
    "        print(f'the number {var_1} is a prime number')\n",
    "    else:\n",
    "        print(f'the number {var_1} is not a prime number')\n",
    "    break"
   ]
  },
  {
   "cell_type": "code",
   "execution_count": 347,
   "id": "ca5c9ce3-6d5d-4223-9688-892a18bdcde5",
   "metadata": {},
   "outputs": [
    {
     "name": "stdout",
     "output_type": "stream",
     "text": [
      "The sum is \"38\", average \"5.428571428571429\", maximum value \"8\" and minmum value \"1\"\n"
     ]
    }
   ],
   "source": [
    "#28. List Manipulation: Given a list of integers, write a Python program using a for loop to find the sum, average, maximum, and minimum values in the list.\n",
    "var_1=[1,3,4,6,8,3,6,7]\n",
    "total_sum=0\n",
    "for i in var_1[0:]:\n",
    "    total_sum=total_sum+i\n",
    "    avg=(total_sum)/i\n",
    "    max_value=max(var_1)\n",
    "    min_value=min(var_1)\n",
    "    \n",
    "print(f'The sum is \"{total_sum}\", average \"{avg}\", maximum value \"{max_value}\" and minmum value \"{min_value}\"')"
   ]
  },
  {
   "cell_type": "code",
   "execution_count": 8,
   "id": "af9cf6bf-38de-446f-bf77-b9980c306ddd",
   "metadata": {},
   "outputs": [
    {
     "name": "stdout",
     "output_type": "stream",
     "text": [
      "hsedalgnaB"
     ]
    }
   ],
   "source": [
    "#29. Reverse String: Write a Python program using a while loop to reverse a given string.\n",
    "var_1=\"Bangladesh\"\n",
    "itr=9 #as the total index number is 9 in the word bangladesh\n",
    "while itr >=0:\n",
    "    print(var_1[itr],end='')\n",
    "    itr=itr-1"
   ]
  },
  {
   "cell_type": "code",
   "execution_count": 14,
   "id": "b4525627-37b4-4117-872a-8c563cf5544a",
   "metadata": {},
   "outputs": [
    {
     "name": "stdout",
     "output_type": "stream",
     "text": [
      "1x1=1\n",
      "1x2=2\n",
      "1x3=3\n",
      "1x4=4\n",
      "1x5=5\n",
      "1x6=6\n",
      "1x7=7\n",
      "1x8=8\n",
      "1x9=9\n",
      "1x10=10\n",
      "2x1=2\n",
      "2x2=4\n",
      "2x3=6\n",
      "2x4=8\n",
      "2x5=10\n",
      "2x6=12\n",
      "2x7=14\n",
      "2x8=16\n",
      "2x9=18\n",
      "2x10=20\n",
      "3x1=3\n",
      "3x2=6\n",
      "3x3=9\n",
      "3x4=12\n",
      "3x5=15\n",
      "3x6=18\n",
      "3x7=21\n",
      "3x8=24\n",
      "3x9=27\n",
      "3x10=30\n",
      "4x1=4\n",
      "4x2=8\n",
      "4x3=12\n",
      "4x4=16\n",
      "4x5=20\n",
      "4x6=24\n",
      "4x7=28\n",
      "4x8=32\n",
      "4x9=36\n",
      "4x10=40\n",
      "5x1=5\n",
      "5x2=10\n",
      "5x3=15\n",
      "5x4=20\n",
      "5x5=25\n",
      "5x6=30\n",
      "5x7=35\n",
      "5x8=40\n",
      "5x9=45\n",
      "5x10=50\n",
      "6x1=6\n",
      "6x2=12\n",
      "6x3=18\n",
      "6x4=24\n",
      "6x5=30\n",
      "6x6=36\n",
      "6x7=42\n",
      "6x8=48\n",
      "6x9=54\n",
      "6x10=60\n",
      "7x1=7\n",
      "7x2=14\n",
      "7x3=21\n",
      "7x4=28\n",
      "7x5=35\n",
      "7x6=42\n",
      "7x7=49\n",
      "7x8=56\n",
      "7x9=63\n",
      "7x10=70\n",
      "8x1=8\n",
      "8x2=16\n",
      "8x3=24\n",
      "8x4=32\n",
      "8x5=40\n",
      "8x6=48\n",
      "8x7=56\n",
      "8x8=64\n",
      "8x9=72\n",
      "8x10=80\n",
      "9x1=9\n",
      "9x2=18\n",
      "9x3=27\n",
      "9x4=36\n",
      "9x5=45\n",
      "9x6=54\n",
      "9x7=63\n",
      "9x8=72\n",
      "9x9=81\n",
      "9x10=90\n",
      "10x1=10\n",
      "10x2=20\n",
      "10x3=30\n",
      "10x4=40\n",
      "10x5=50\n",
      "10x6=60\n",
      "10x7=70\n",
      "10x8=80\n",
      "10x9=90\n",
      "10x10=100\n"
     ]
    }
   ],
   "source": [
    "#30. Multiplication Table: Write a Python program using nested loops to print the multiplication table from 1 to 10.\n",
    "\n",
    "num=[1,2,3,4,5,6,7,8,9,10]\n",
    "for i in num:\n",
    "    j=num[0]\n",
    "    while j <= 10:\n",
    "        print(f'{i}x{j}={i*j}')\n",
    "        j=j+1"
   ]
  },
  {
   "cell_type": "code",
   "execution_count": null,
   "id": "ccb15f73-a12e-41bc-bdea-c19f58a02041",
   "metadata": {},
   "outputs": [],
   "source": []
  },
  {
   "cell_type": "code",
   "execution_count": null,
   "id": "39b96ad9-dcd8-4115-8049-00568a802acc",
   "metadata": {},
   "outputs": [],
   "source": []
  },
  {
   "cell_type": "code",
   "execution_count": null,
   "id": "0fa7ba70-bbcd-44e7-ba4c-cab6d98d3c65",
   "metadata": {},
   "outputs": [],
   "source": []
  }
 ],
 "metadata": {
  "kernelspec": {
   "display_name": "Python 3 (ipykernel)",
   "language": "python",
   "name": "python3"
  },
  "language_info": {
   "codemirror_mode": {
    "name": "ipython",
    "version": 3
   },
   "file_extension": ".py",
   "mimetype": "text/x-python",
   "name": "python",
   "nbconvert_exporter": "python",
   "pygments_lexer": "ipython3",
   "version": "3.12.0"
  }
 },
 "nbformat": 4,
 "nbformat_minor": 5
}
